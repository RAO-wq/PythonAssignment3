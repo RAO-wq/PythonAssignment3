{
 "cells": [
  {
   "cell_type": "code",
   "execution_count": 12,
   "id": "7a824ba4",
   "metadata": {},
   "outputs": [
    {
     "name": "stdout",
     "output_type": "stream",
     "text": [
      "Twinkle,twinkle, little star,\n",
      "         How i wonder What you are!\n",
      "                       Up above the world so high\n",
      "                       Like a dimond in the sky.\n",
      "Twikle twinke, little star\n",
      "           How I wonder what you are\n"
     ]
    }
   ],
   "source": [
    "#Q No1)write a python program to print th following string in a specific format(see the output)?\n",
    "\n",
    "print(\"Twinkle,twinkle, little star,\\n         How i wonder What you are!\\n                       Up above the world so high\\n                       Like a dimond in the sky.\");\n",
    "print(\"Twikle twinke, little star\\n           How I wonder what you are\");\n"
   ]
  },
  {
   "cell_type": "code",
   "execution_count": 13,
   "id": "100ef96a",
   "metadata": {},
   "outputs": [
    {
     "name": "stdout",
     "output_type": "stream",
     "text": [
      "3.8.8 (default, Apr 13 2021, 15:08:03) [MSC v.1916 64 bit (AMD64)]\n"
     ]
    }
   ],
   "source": [
    "#Qno 2) write a Python program to get the Python version you are using ?\n",
    "\n",
    "import sys\n",
    "print(sys.version);"
   ]
  },
  {
   "cell_type": "code",
   "execution_count": 15,
   "id": "61c0aa61",
   "metadata": {},
   "outputs": [
    {
     "name": "stdout",
     "output_type": "stream",
     "text": [
      "Current date and time : \n",
      "2021-10-22 11:37:09\n"
     ]
    }
   ],
   "source": [
    "#Qno3) Write a Python program to display the current date and time. ?\n",
    "import datetime\n",
    "now = datetime.datetime.now()\n",
    "print (\"Current date and time : \")\n",
    "print (now.strftime(\"%Y-%m-%d %H:%M:%S\"))"
   ]
  },
  {
   "cell_type": "code",
   "execution_count": 8,
   "id": "e39bf6f7",
   "metadata": {},
   "outputs": [
    {
     "name": "stdout",
     "output_type": "stream",
     "text": [
      "Input the radius of the circle : 5\n",
      "The area of the circle with radius 5.0 is: 78.56\n"
     ]
    }
   ],
   "source": [
    "#Qno4)  Write a Python program which accepts the radius of a circle from the user and compute the area?\n",
    "pi=3.1424\n",
    "RaoabdulRaheem = float(input (\"Input the radius of the circle : \"))\n",
    "print (\"The area of the circle with radius \" + str(RaoabdulRaheem) + \" is: \" + str(pi * RaoabdulRaheem**2));\n"
   ]
  },
  {
   "cell_type": "code",
   "execution_count": 5,
   "id": "4d204813",
   "metadata": {},
   "outputs": [
    {
     "name": "stdout",
     "output_type": "stream",
     "text": [
      "Input your First Name : rao\n",
      "Input your Last Name : abdul raheem\n",
      "Reverse order Name print  abdul raheem rao\n"
     ]
    }
   ],
   "source": [
    "#Qno5). Write a Python program which accepts the user's first and last name and print them in reverse order with a space between them. ?\n",
    "\n",
    "first_name = input(\"Input your First Name : \")\n",
    "last_name = input(\"Input your Last Name : \")\n",
    "print (\"Reverse order Name print  \" + last_name + \" \" + first_name)\n",
    "\n"
   ]
  },
  {
   "cell_type": "code",
   "execution_count": 7,
   "id": "93e3cf19",
   "metadata": {},
   "outputs": [
    {
     "name": "stdout",
     "output_type": "stream",
     "text": [
      "please enter firse input:10\n",
      "Please enter 2nd input 21\n",
      "Addition of Two number 31\n"
     ]
    }
   ],
   "source": [
    "#Qno6) Write a python program which takes two inputs from user and print them addition?\n",
    "\n",
    "first_input=int(input(\"please enter firse input:\"))\n",
    "second_input=int(input(\"Please enter 2nd input \"))\n",
    "addition=first_input + second_input;\n",
    "print(\"Addition of Two number \" +str(addition))\n"
   ]
  },
  {
   "cell_type": "code",
   "execution_count": 3,
   "id": "32272f17",
   "metadata": {},
   "outputs": [
    {
     "name": "stdout",
     "output_type": "stream",
     "text": [
      "Rao Abdul Raheem\n",
      "please enter Maths Marks:50\n",
      "Please enter Computer Marks 90\n",
      "please enter urdu Marks :90\n",
      "Please enter Physics Marks 90\n",
      "please enter Islamiat Marks:90\n",
      "Total ObtainedMarks:  410\n",
      "Percentage : 82.0\n",
      "Congratulations You Got A+1 Grage\n"
     ]
    }
   ],
   "source": [
    "#Qno 7)Write a program which takes 5 inputs from user for different subject’s marks, total it and generate mark sheet using grades ?\n",
    "\n",
    "\n",
    "print(\"Rao Abdul Raheem\");\n",
    "   \n",
    "Maths=int(input(\"please enter Maths Marks:\"))\n",
    "Computer=int(input(\"Please enter Computer Marks \"))\n",
    "Urdu=int(input(\"please enter urdu Marks :\"))\n",
    "Physics=int(input(\"Please enter Physics Marks \"))\n",
    "Islamiat=int(input(\"please enter Islamiat Marks:\"))\n",
    "\n",
    "\n",
    "TotalMarks = 500;\n",
    "\n",
    "\n",
    "ObtainedMarks = Maths+Computer+Islamiat+Urdu+Physics;\n",
    "print( \"Total ObtainedMarks:  \" + str(ObtainedMarks));\n",
    "\n",
    "Percentage = ObtainedMarks * 100 / TotalMarks;\n",
    "print(\"Percentage : \" + str(Percentage));\n",
    "\n",
    "\n",
    "\n",
    "if Percentage >= 80:\n",
    "  print(\"Congratulations You Got A+1 Grage\")\n",
    "elif Percentage >= 70 and Percentage <= 80:\n",
    "   print(\"Congratulations You Got A Grage\")\n",
    "elif Percentage >= 60 and Percentage <=70:\n",
    "   print(\"Congratulations You Got B Grage\")\n",
    "elif Percentage >= 50 and Percentage <= 60:\n",
    "  print(\"Congratulation You Got a C grade\")\n",
    "elif Percentage >= 40 and Percentage <= 50:\n",
    " print(\"Congratulation You Got a D grade\")\n",
    "elif Percentage <= 40:\n",
    "   print(\"Try Again You Are Failed\")\n",
    "\n",
    "\n",
    "\n"
   ]
  },
  {
   "cell_type": "code",
   "execution_count": 73,
   "id": "90fe3480",
   "metadata": {},
   "outputs": [
    {
     "name": "stdout",
     "output_type": "stream",
     "text": [
      "please enter to check even or odd number7\n",
      "The Input number is odd 7\n"
     ]
    }
   ],
   "source": [
    "#Qno8) rite a program which take input from user and identify that the given number is even or odd? \n",
    "user_input=int(input(\"please enter to check even or odd number\"))\n",
    "if(user_input % 2)==0:\n",
    " print(\"input number is even \"+str(user_input))\n",
    "else:\n",
    " print(\"The Input number is odd \"+str(user_input))\n"
   ]
  },
  {
   "cell_type": "code",
   "execution_count": 1,
   "id": "7485e297",
   "metadata": {},
   "outputs": [
    {
     "name": "stdout",
     "output_type": "stream",
     "text": [
      "The length of the list is 15\n"
     ]
    }
   ],
   "source": [
    "#Qno9? Write a program which print the length of the list? \n",
    "\n",
    "length_of_list = [1, 1, 2, 3, 5, 8, 13, 21, 34, 55, 89, \"Rao\", \"Abdul\",\"Raheem\", \"Khan\"]  \n",
    "print(\"The length of the list is\", len(length_of_list))"
   ]
  },
  {
   "cell_type": "code",
   "execution_count": 85,
   "id": "be5c3d24",
   "metadata": {},
   "outputs": [
    {
     "name": "stdout",
     "output_type": "stream",
     "text": [
      "Sum of all elements in given list:  232\n"
     ]
    }
   ],
   "source": [
    "#QNo10) write a Python program to sum all the numeric items in a list?\n",
    "Total = 0\n",
    " \n",
    "\n",
    "listtotal = [1, 1, 2, 3, 5, 8, 13, 21, 34, 55, 89]\n",
    " \n",
    "\n",
    "for Junaid in range(0, len(listtotal)):\n",
    "    Total =Total + list1[Rao]\n",
    " \n",
    "# printing total value\n",
    "print(\"Sum of all elements in given list: \", Total)"
   ]
  },
  {
   "cell_type": "code",
   "execution_count": 88,
   "id": "bf74ef13",
   "metadata": {},
   "outputs": [
    {
     "name": "stdout",
     "output_type": "stream",
     "text": [
      "largest Number of the List is:  100\n"
     ]
    }
   ],
   "source": [
    "#QNo11)Write a Python program to get the largest number from a numeric list. ?\n",
    "\n",
    "listtotal = [1, 1, 2, 3, 5, 100, 13, 21, 99, 55, 89]\n",
    "listtotal.sort()\n",
    "print(\"largest Number of the List is: \" ,listtotal[-1])\n"
   ]
  },
  {
   "cell_type": "code",
   "execution_count": 2,
   "id": "17286d78",
   "metadata": {},
   "outputs": [
    {
     "name": "stdout",
     "output_type": "stream",
     "text": [
      "Given List of Element  less than 5: Show  [1, 1, 2, 3]\n"
     ]
    }
   ],
   "source": [
    "#QNo12) Take a list, say for example this one: \n",
    " \n",
    "#a = [1, 1, 2, 3, 5, 8, 13, 21, 34, 55, 89] \n",
    "#Write a program that prints out all the elements of the list that are less than 5. \n",
    "\n",
    "a = [1, 1, 2, 3, 5, 8, 13, 21, 34, 55, 89]\n",
    "\n",
    "rao=[i for i in a if i <5]\n",
    "print(\"Given List of Element  less than 5: Show \",rao)\n",
    "        "
   ]
  },
  {
   "cell_type": "code",
   "execution_count": null,
   "id": "08d788f3",
   "metadata": {},
   "outputs": [],
   "source": []
  },
  {
   "cell_type": "code",
   "execution_count": null,
   "id": "f0aa3bdf",
   "metadata": {},
   "outputs": [],
   "source": []
  }
 ],
 "metadata": {
  "kernelspec": {
   "display_name": "Python 3",
   "language": "python",
   "name": "python3"
  },
  "language_info": {
   "codemirror_mode": {
    "name": "ipython",
    "version": 3
   },
   "file_extension": ".py",
   "mimetype": "text/x-python",
   "name": "python",
   "nbconvert_exporter": "python",
   "pygments_lexer": "ipython3",
   "version": "3.8.8"
  }
 },
 "nbformat": 4,
 "nbformat_minor": 5
}
